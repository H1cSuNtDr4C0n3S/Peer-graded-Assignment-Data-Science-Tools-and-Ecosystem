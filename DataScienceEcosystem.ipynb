{
 "cells": [
  {
   "cell_type": "markdown",
   "id": "94f87c56-fe9b-49da-92a7-cb6026ae2ec4",
   "metadata": {},
   "source": [
    "# Data Science Tools and Ecosystem"
   ]
  },
  {
   "cell_type": "markdown",
   "id": "db319e48-8f1f-4b01-a429-8bfcd991e288",
   "metadata": {},
   "source": [
    "In this notebook, Data Science Tools and Ecosystem are summarized."
   ]
  },
  {
   "cell_type": "markdown",
   "id": "2d1954eb-b981-482a-9683-8f852190f05f",
   "metadata": {},
   "source": [
    "**Objectives**:\n",
    "- list some popular languages\n",
    "- list some commonly used libraries by Data Scientists\n",
    "- list some Data Science Tools\n",
    "- make arithmetic expressions in python\n"
   ]
  },
  {
   "cell_type": "markdown",
   "id": "d1631270-73a7-475e-958e-37212dced3b6",
   "metadata": {},
   "source": [
    "Some of the popular languages that Data Scientists use are:\n",
    "1. Python\n",
    "2. R\n",
    "3. scala"
   ]
  },
  {
   "cell_type": "markdown",
   "id": "db5c9049-a03b-464f-8fde-95994be686bf",
   "metadata": {},
   "source": [
    "Some of the commonly used libraries used by Data Scientists include:\n",
    "1. pandas\n",
    "2. keras\n",
    "3. numpy"
   ]
  },
  {
   "cell_type": "markdown",
   "id": "a9c6dbcc-ffb1-49f6-be37-20e7dfa7b90a",
   "metadata": {},
   "source": [
    "|Data Science Tools|\n",
    "|------------------|\n",
    "|jupiter notebook|\n",
    "|VS code|\n",
    "|Rstudio|"
   ]
  },
  {
   "cell_type": "markdown",
   "id": "41144520-9d3a-468d-9202-1789acc58e82",
   "metadata": {},
   "source": [
    "### Below are a few examples of evaluating arithmetic expressions in Python.\n",
    "\n"
   ]
  },
  {
   "cell_type": "code",
   "execution_count": null,
   "id": "aae2d186-84fe-4047-897e-3af07fe57cc8",
   "metadata": {},
   "outputs": [],
   "source": [
    "# this a simple arithmetic expression to mutiply then add integers"
   ]
  },
  {
   "cell_type": "code",
   "execution_count": 1,
   "id": "7167c1f0-e574-47cd-8c57-0c76f91eb3f8",
   "metadata": {},
   "outputs": [
    {
     "data": {
      "text/plain": [
       "17"
      ]
     },
     "execution_count": 1,
     "metadata": {},
     "output_type": "execute_result"
    }
   ],
   "source": [
    "(3*4)+5"
   ]
  },
  {
   "cell_type": "code",
   "execution_count": 2,
   "id": "52239d41-b2e9-4377-bc7a-d35a06697204",
   "metadata": {},
   "outputs": [],
   "source": [
    "# This will convert 200 minutes to hours by diving by 60"
   ]
  },
  {
   "cell_type": "code",
   "execution_count": 3,
   "id": "34dd53ac-351c-4ebe-9d5d-106a0891c201",
   "metadata": {},
   "outputs": [
    {
     "data": {
      "text/plain": [
       "3.3333333333333335"
      ]
     },
     "execution_count": 3,
     "metadata": {},
     "output_type": "execute_result"
    }
   ],
   "source": [
    "200/60"
   ]
  },
  {
   "cell_type": "markdown",
   "id": "8a8a7c8a-66f2-48f4-89c1-340e494f5741",
   "metadata": {},
   "source": [
    "## Author\n",
    "Michael"
   ]
  }
 ],
 "metadata": {
  "kernelspec": {
   "display_name": "Python 3 (ipykernel)",
   "language": "python",
   "name": "python3"
  },
  "language_info": {
   "codemirror_mode": {
    "name": "ipython",
    "version": 3
   },
   "file_extension": ".py",
   "mimetype": "text/x-python",
   "name": "python",
   "nbconvert_exporter": "python",
   "pygments_lexer": "ipython3",
   "version": "3.12.8"
  }
 },
 "nbformat": 4,
 "nbformat_minor": 5
}
